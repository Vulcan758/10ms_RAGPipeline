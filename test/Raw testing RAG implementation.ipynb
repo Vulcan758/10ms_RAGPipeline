{
 "cells": [
  {
   "cell_type": "markdown",
   "id": "03a230aa-d6b4-4084-8583-23251c367fe0",
   "metadata": {},
   "source": [
    "## Main Goal \n",
    "\n",
    "Create a RAG pipeline that will accept a user query, retrieve the relevent data from a vector database, and finally, generate a useful response using with the help of an LLM.\n",
    "\n",
    "## My Appraoch\n",
    "\n",
    "At a high level, the goal can be broken down into a few parts,\n",
    "\n",
    "- Processing the data (cleaning, creating chucks, etc)\n",
    "- Vectorizing the data with  an embedding function\n",
    "- Taking a query\n",
    "- Retreiving relevant info using the vector database\n",
    "- Feeding that info, plus the original query into the LLM and generating a response\n",
    "\n"
   ]
  },
  {
   "cell_type": "code",
   "execution_count": 1,
   "id": "e8b41fd7-4176-43ed-8c78-0b6977c6fcc7",
   "metadata": {},
   "outputs": [],
   "source": [
    "import fitz  # PyMuPDF\n",
    "import re\n",
    "from transformers import AutoTokenizer, AutoModelForQuestionAnswering\n",
    "from sentence_transformers import SentenceTransformer\n",
    "import chromadb\n",
    "from typing import List, Dict\n",
    "import torch"
   ]
  },
  {
   "cell_type": "code",
   "execution_count": 7,
   "id": "f31c457c-1373-4457-98e9-1ae65fe869c0",
   "metadata": {},
   "outputs": [],
   "source": [
    "from langchain.document_loaders import PyPDFLoader\n",
    "from langchain.text_splitter import RecursiveCharacterTextSplitter"
   ]
  },
  {
   "cell_type": "code",
   "execution_count": 11,
   "id": "cf091f94-f41b-4e6e-b046-37237fb6e14e",
   "metadata": {},
   "outputs": [],
   "source": [
    "path_to_book = \"book/HSC26-Bangla1st-Paper.pdf\""
   ]
  },
  {
   "cell_type": "code",
   "execution_count": 12,
   "id": "04f67877-f48e-4eef-8ac7-d31c6cb5e5b1",
   "metadata": {},
   "outputs": [],
   "source": [
    "def load_and_chunk_pdf(pdf_path: str, chunk_size: int = 500, chunk_overlap: int = 80):\n",
    "    loader = PyPDFLoader(pdf_path)\n",
    "    pages = loader.load()\n",
    "    \n",
    "    full_text = \"\\n\".join([page.page_content for page in pages])\n",
    "    \n",
    "    text_splitter = RecursiveCharacterTextSplitter(\n",
    "        separators=[\"\\n\\n\", \"\\n\"],\n",
    "        chunk_size=chunk_size,\n",
    "        chunk_overlap=chunk_overlap,\n",
    "        length_function=len\n",
    "    )\n",
    "    \n",
    "    chunks = text_splitter.create_documents([full_text])\n",
    "    \n",
    "    return chunks\n"
   ]
  },
  {
   "cell_type": "code",
   "execution_count": 14,
   "id": "3bffb284-2703-4dc8-a419-f17e9c9db832",
   "metadata": {},
   "outputs": [],
   "source": [
    "chunks = load_and_chunk_pdf(path_to_book)"
   ]
  },
  {
   "cell_type": "code",
   "execution_count": 16,
   "id": "3bcce882-bd0d-4ef5-93a9-96cef00f2ee7",
   "metadata": {},
   "outputs": [
    {
     "data": {
      "text/plain": [
       "Document(metadata={}, page_content='অনলাইন ব্যাচ সম্পর্কিত যেককাকনা জিজ্ঞাাসা ,\\nঅপরিরিতা\\nআল ািয রিষয়\\nিাাং া\\n১ম পত্র\\n১। অনুপলেি িািা কী কলি জীরিকা রনিবাহ কিলতন?\\nক) ডাক্তার্ি খ) ওকালর্ত গ) মাস্টার্ি ঘ) ব্যব্সা\\n২। োোলক ভাগ্য দেিতাি প্রধান এলজন্ট ি াি কািণ, তাি-\\nক) প্রর্তপজি খ) প্রভাব্  গ) র্ব্চক্ষণতা ঘ) কূট ব্ুর্ি\\nর্নকচি অনুকেদটি পক়ে ৩ ও ৪ সংখযক প্রকেি উিি দাও।\\nর্পতৃহীন দীপুি চাচাই র্িকলন পর্িব্াকিি কতিা। দীপু র্িজক্ষত হকলও তাি র্সিান্ত যনও াি ক্ষমতা র্িল না। চাচা')"
      ]
     },
     "execution_count": 16,
     "metadata": {},
     "output_type": "execute_result"
    }
   ],
   "source": [
    "chunks[0]"
   ]
  },
  {
   "cell_type": "code",
   "execution_count": 18,
   "id": "af5eb477-17c8-43b4-996d-c0e2bf6da32c",
   "metadata": {},
   "outputs": [],
   "source": [
    "import pdfplumber\n",
    "\n",
    "def load_pdf_with_pdfplumber(pdf_path):\n",
    "    text = \"\"\n",
    "    with pdfplumber.open(pdf_path) as pdf:\n",
    "        for page in pdf.pages:\n",
    "            text += page.extract_text() + \"\\n\"\n",
    "    return text\n",
    "\n",
    "full_text = load_pdf_with_pdfplumber(path_to_book)"
   ]
  },
  {
   "cell_type": "code",
   "execution_count": 19,
   "id": "3ef82e61-0a74-4b6d-8f56-a59f3204111d",
   "metadata": {},
   "outputs": [
    {
     "data": {
      "text/plain": [
       "'িাাং া\\n১ম পত্র\\nআল ািয রিষয়\\nঅপরিরিতা\\nঅনলাইন ব্যাচ সম্পর্কিত যেককাকনা জিজ্ঞাাসা ,\\nর্িখনফল\\n✓ র্নম্নর্ব্'"
      ]
     },
     "execution_count": 19,
     "metadata": {},
     "output_type": "execute_result"
    }
   ],
   "source": [
    "full_text[0:100]"
   ]
  },
  {
   "cell_type": "code",
   "execution_count": 21,
   "id": "5737d617-4615-493b-a085-51e8b9a45238",
   "metadata": {},
   "outputs": [
    {
     "ename": "ValueError",
     "evalue": "No models are available for the language 'bn' and OCR version None.",
     "output_type": "error",
     "traceback": [
      "\u001b[0;31m---------------------------------------------------------------------------\u001b[0m",
      "\u001b[0;31mValueError\u001b[0m                                Traceback (most recent call last)",
      "Cell \u001b[0;32mIn[21], line 3\u001b[0m\n\u001b[1;32m      1\u001b[0m \u001b[38;5;28;01mfrom\u001b[39;00m\u001b[38;5;250m \u001b[39m\u001b[38;5;21;01mpaddleocr\u001b[39;00m\u001b[38;5;250m \u001b[39m\u001b[38;5;28;01mimport\u001b[39;00m PaddleOCR\n\u001b[0;32m----> 3\u001b[0m ocr \u001b[38;5;241m=\u001b[39m \u001b[43mPaddleOCR\u001b[49m\u001b[43m(\u001b[49m\u001b[43muse_angle_cls\u001b[49m\u001b[38;5;241;43m=\u001b[39;49m\u001b[38;5;28;43;01mTrue\u001b[39;49;00m\u001b[43m,\u001b[49m\u001b[43m \u001b[49m\u001b[43mlang\u001b[49m\u001b[38;5;241;43m=\u001b[39;49m\u001b[38;5;124;43m'\u001b[39;49m\u001b[38;5;124;43mbn\u001b[39;49m\u001b[38;5;124;43m'\u001b[39;49m\u001b[43m)\u001b[49m  \u001b[38;5;66;03m# Bangla support\u001b[39;00m\n\u001b[1;32m      5\u001b[0m \u001b[38;5;28;01mdef\u001b[39;00m\u001b[38;5;250m \u001b[39m\u001b[38;5;21mextract_text_with_ocr\u001b[39m(pdf_path):\n\u001b[1;32m      6\u001b[0m     \u001b[38;5;66;03m# Convert PDF to images first (use pdf2image)\u001b[39;00m\n\u001b[1;32m      7\u001b[0m     images \u001b[38;5;241m=\u001b[39m convert_from_path(pdf_path)\n",
      "File \u001b[0;32m~/.local/lib/python3.10/site-packages/paddleocr/_pipelines/ocr.py:106\u001b[0m, in \u001b[0;36mPaddleOCR.__init__\u001b[0;34m(self, doc_orientation_classify_model_name, doc_orientation_classify_model_dir, doc_unwarping_model_name, doc_unwarping_model_dir, text_detection_model_name, text_detection_model_dir, textline_orientation_model_name, textline_orientation_model_dir, textline_orientation_batch_size, text_recognition_model_name, text_recognition_model_dir, text_recognition_batch_size, use_doc_orientation_classify, use_doc_unwarping, use_textline_orientation, text_det_limit_side_len, text_det_limit_type, text_det_thresh, text_det_box_thresh, text_det_unclip_ratio, text_det_input_shape, text_rec_score_thresh, text_rec_input_shape, lang, ocr_version, **kwargs)\u001b[0m\n\u001b[1;32m    102\u001b[0m det_model_name, rec_model_name \u001b[38;5;241m=\u001b[39m \u001b[38;5;28mself\u001b[39m\u001b[38;5;241m.\u001b[39m_get_ocr_model_names(\n\u001b[1;32m    103\u001b[0m     lang, ocr_version\n\u001b[1;32m    104\u001b[0m )\n\u001b[1;32m    105\u001b[0m \u001b[38;5;28;01mif\u001b[39;00m det_model_name \u001b[38;5;129;01mis\u001b[39;00m \u001b[38;5;28;01mNone\u001b[39;00m \u001b[38;5;129;01mor\u001b[39;00m rec_model_name \u001b[38;5;129;01mis\u001b[39;00m \u001b[38;5;28;01mNone\u001b[39;00m:\n\u001b[0;32m--> 106\u001b[0m     \u001b[38;5;28;01mraise\u001b[39;00m \u001b[38;5;167;01mValueError\u001b[39;00m(\n\u001b[1;32m    107\u001b[0m         \u001b[38;5;124mf\u001b[39m\u001b[38;5;124m\"\u001b[39m\u001b[38;5;124mNo models are available for the language \u001b[39m\u001b[38;5;132;01m{\u001b[39;00m\u001b[38;5;28mrepr\u001b[39m(lang)\u001b[38;5;132;01m}\u001b[39;00m\u001b[38;5;124m and OCR version \u001b[39m\u001b[38;5;132;01m{\u001b[39;00m\u001b[38;5;28mrepr\u001b[39m(ocr_version)\u001b[38;5;132;01m}\u001b[39;00m\u001b[38;5;124m.\u001b[39m\u001b[38;5;124m\"\u001b[39m\n\u001b[1;32m    108\u001b[0m     )\n\u001b[1;32m    109\u001b[0m text_detection_model_name \u001b[38;5;241m=\u001b[39m det_model_name\n\u001b[1;32m    110\u001b[0m text_recognition_model_name \u001b[38;5;241m=\u001b[39m rec_model_name\n",
      "\u001b[0;31mValueError\u001b[0m: No models are available for the language 'bn' and OCR version None."
     ]
    }
   ],
   "source": [
    "from paddleocr import PaddleOCR\n",
    "\n",
    "ocr = PaddleOCR(use_angle_cls=True, lang='bn')  # Bangla support\n",
    "\n",
    "def extract_text_with_ocr(pdf_path):\n",
    "    # Convert PDF to images first (use pdf2image)\n",
    "    images = convert_from_path(pdf_path)\n",
    "    text = \"\"\n",
    "    for img in images:\n",
    "        result = ocr.ocr(img)\n",
    "        text += \" \".join([line[1][0] for line in result]) + \"\\n\"\n",
    "    return text"
   ]
  },
  {
   "cell_type": "code",
   "execution_count": 22,
   "id": "9ca12aa2-299e-4166-a71d-df96f1a48cfd",
   "metadata": {},
   "outputs": [],
   "source": [
    "import fitz  # PyMuPDF\n",
    "from langchain.schema import Document\n",
    "from langchain.text_splitter import RecursiveCharacterTextSplitter\n",
    "\n",
    "def load_pdf_with_fitz(pdf_path: str) -> str:\n",
    "    \"\"\"Extract text while preserving Bengali layout\"\"\"\n",
    "    doc = fitz.open(pdf_path)\n",
    "    text = \"\"\n",
    "    for page in doc:\n",
    "        text += page.get_text(\"text\", sort=True)  # 'sort=True' maintains reading order\n",
    "    return text\n",
    "\n",
    "def load_and_chunk_pdf(pdf_path: str, chunk_size: int = 800, chunk_overlap: int = 100):\n",
    "    # 1. Extract with PyMuPDF\n",
    "    raw_text = load_pdf_with_fitz(pdf_path)\n",
    "    \n",
    "    # 2. Bengali-specific cleaning\n",
    "    cleaned_text = clean_bengali_text(raw_text)\n",
    "    \n",
    "    # 3. Semantic chunking\n",
    "    text_splitter = RecursiveCharacterTextSplitter(\n",
    "        separators=[\"\\n\\n\", \"\\n\"],  # Bangla + English punctuation\n",
    "        chunk_size=chunk_size,\n",
    "        chunk_overlap=chunk_overlap,\n",
    "        is_separator_regex=False  # Required for non-ASCII separators\n",
    "    )\n",
    "    chunks = text_splitter.create_documents([cleaned_text])\n",
    "    \n",
    "    return chunks"
   ]
  },
  {
   "cell_type": "code",
   "execution_count": 23,
   "id": "96a31150-8d2b-4430-85ce-06ea333d6cde",
   "metadata": {},
   "outputs": [],
   "source": [
    "texts = load_pdf_with_fitz(path_to_book)"
   ]
  },
  {
   "cell_type": "code",
   "execution_count": 27,
   "id": "b8de2540-1908-49e0-a46e-b6845b82eb05",
   "metadata": {},
   "outputs": [
    {
     "name": "stdout",
     "output_type": "stream",
     "text": [
      "জ্ঞাাসা  ,   র্িখনফল\n",
      "\n",
      "  ✓র্নম্নর্ব্িব্যজক্তিহঠাৎর্ব্িিালীহক  ওঠািফকলসমাকিপর্িচ  সংকটসম্পককিধািণালাভক\n"
     ]
    }
   ],
   "source": [
    "print(texts[100:200])"
   ]
  },
  {
   "cell_type": "code",
   "execution_count": 28,
   "id": "e007324a-4339-4d34-a382-cb4d23bfe8a6",
   "metadata": {},
   "outputs": [],
   "source": [
    "def load_pdf_with_fitz(pdf_path: str) -> str:\n",
    "    doc = fitz.open(pdf_path)\n",
    "    text = \"\"\n",
    "    for page in doc:\n",
    "        # Critical: Use 'text' mode with layout preservation\n",
    "        text += page.get_text(\"text\", sort=True, flags=fitz.TEXT_PRESERVE_LIGATURES | fitz.TEXT_PRESERVE_WHITESPACE)\n",
    "    return text"
   ]
  },
  {
   "cell_type": "code",
   "execution_count": 30,
   "id": "c2f60535-f547-479d-9d1c-64fe5db59b70",
   "metadata": {},
   "outputs": [
    {
     "name": "stdout",
     "output_type": "stream",
     "text": [
      "    িাাং   া\n",
      "   ১ম পত্র\n",
      "\n",
      "\n",
      "\n",
      "       আল  ািয রিষয়\n",
      "\n",
      "    অপরিরিতা\n",
      "\n",
      "\n",
      "\n",
      "\n",
      "\n",
      "অনলাইন ব্যাচ সম্পর্কিত যেককাকনা জি\n"
     ]
    }
   ],
   "source": [
    "texts = load_pdf_with_fitz(path_to_book)\n",
    "print(texts[0:100])"
   ]
  },
  {
   "cell_type": "code",
   "execution_count": 31,
   "id": "2fd78c56-5f58-41ea-8c42-3ef1f32224a8",
   "metadata": {},
   "outputs": [],
   "source": [
    "def clean_bengali_text(text: str) -> str:\n",
    "    import re\n",
    "    # Fix broken conjuncts and virama\n",
    "    fixes = {\n",
    "        r'্র্(\\w)': r'্র\\1',    # Fixes \"র্খ\" → \"্রখ\"\n",
    "        r'্্': '্',            # Double virama → single\n",
    "        r'|\\✓|�': '',         # Remove garbage symbols\n",
    "        r'(\\p{L})্(\\p{L})': r'\\1\\2্',  # Move virama to proper position\n",
    "    }\n",
    "    \n",
    "    for pattern, replacement in fixes.items():\n",
    "        text = re.sub(pattern, replacement, text)\n",
    "    \n",
    "    # Normalize Unicode composition\n",
    "    import unicodedata\n",
    "    text = unicodedata.normalize('NFC', text)\n",
    "    \n",
    "    return text"
   ]
  },
  {
   "cell_type": "code",
   "execution_count": 34,
   "id": "f760d210-5ac6-4720-8053-df88d697dec0",
   "metadata": {},
   "outputs": [
    {
     "ename": "error",
     "evalue": "bad escape \\p at position 1",
     "output_type": "error",
     "traceback": [
      "\u001b[0;31m---------------------------------------------------------------------------\u001b[0m",
      "\u001b[0;31merror\u001b[0m                                     Traceback (most recent call last)",
      "Cell \u001b[0;32mIn[34], line 1\u001b[0m\n\u001b[0;32m----> 1\u001b[0m texts \u001b[38;5;241m=\u001b[39m \u001b[43mclean_bengali_text\u001b[49m\u001b[43m(\u001b[49m\u001b[43mtexts\u001b[49m\u001b[43m)\u001b[49m\n\u001b[1;32m      2\u001b[0m \u001b[38;5;28mprint\u001b[39m(texts[\u001b[38;5;241m0\u001b[39m:\u001b[38;5;241m100\u001b[39m])\n",
      "Cell \u001b[0;32mIn[31], line 12\u001b[0m, in \u001b[0;36mclean_bengali_text\u001b[0;34m(text)\u001b[0m\n\u001b[1;32m      4\u001b[0m fixes \u001b[38;5;241m=\u001b[39m {\n\u001b[1;32m      5\u001b[0m     \u001b[38;5;124mr\u001b[39m\u001b[38;5;124m'\u001b[39m\u001b[38;5;124m্র্(\u001b[39m\u001b[38;5;124m\\\u001b[39m\u001b[38;5;124mw)\u001b[39m\u001b[38;5;124m'\u001b[39m: \u001b[38;5;124mr\u001b[39m\u001b[38;5;124m'\u001b[39m\u001b[38;5;124m্র\u001b[39m\u001b[38;5;124m\\\u001b[39m\u001b[38;5;124m1\u001b[39m\u001b[38;5;124m'\u001b[39m,    \u001b[38;5;66;03m# Fixes \"র্খ\" → \"্রখ\"\u001b[39;00m\n\u001b[1;32m      6\u001b[0m     \u001b[38;5;124mr\u001b[39m\u001b[38;5;124m'\u001b[39m\u001b[38;5;124m্্\u001b[39m\u001b[38;5;124m'\u001b[39m: \u001b[38;5;124m'\u001b[39m\u001b[38;5;124m্\u001b[39m\u001b[38;5;124m'\u001b[39m,            \u001b[38;5;66;03m# Double virama → single\u001b[39;00m\n\u001b[1;32m      7\u001b[0m     \u001b[38;5;124mr\u001b[39m\u001b[38;5;124m'\u001b[39m\u001b[38;5;124m|\u001b[39m\u001b[38;5;124m\\\u001b[39m\u001b[38;5;124m✓|�\u001b[39m\u001b[38;5;124m'\u001b[39m: \u001b[38;5;124m'\u001b[39m\u001b[38;5;124m'\u001b[39m,         \u001b[38;5;66;03m# Remove garbage symbols\u001b[39;00m\n\u001b[1;32m      8\u001b[0m     \u001b[38;5;124mr\u001b[39m\u001b[38;5;124m'\u001b[39m\u001b[38;5;124m(\u001b[39m\u001b[38;5;124m\\\u001b[39m\u001b[38;5;124mp\u001b[39m\u001b[38;5;132;01m{L}\u001b[39;00m\u001b[38;5;124m)্(\u001b[39m\u001b[38;5;124m\\\u001b[39m\u001b[38;5;124mp\u001b[39m\u001b[38;5;132;01m{L}\u001b[39;00m\u001b[38;5;124m)\u001b[39m\u001b[38;5;124m'\u001b[39m: \u001b[38;5;124mr\u001b[39m\u001b[38;5;124m'\u001b[39m\u001b[38;5;124m\\\u001b[39m\u001b[38;5;124m1\u001b[39m\u001b[38;5;124m\\\u001b[39m\u001b[38;5;124m2্\u001b[39m\u001b[38;5;124m'\u001b[39m,  \u001b[38;5;66;03m# Move virama to proper position\u001b[39;00m\n\u001b[1;32m      9\u001b[0m }\n\u001b[1;32m     11\u001b[0m \u001b[38;5;28;01mfor\u001b[39;00m pattern, replacement \u001b[38;5;129;01min\u001b[39;00m fixes\u001b[38;5;241m.\u001b[39mitems():\n\u001b[0;32m---> 12\u001b[0m     text \u001b[38;5;241m=\u001b[39m \u001b[43mre\u001b[49m\u001b[38;5;241;43m.\u001b[39;49m\u001b[43msub\u001b[49m\u001b[43m(\u001b[49m\u001b[43mpattern\u001b[49m\u001b[43m,\u001b[49m\u001b[43m \u001b[49m\u001b[43mreplacement\u001b[49m\u001b[43m,\u001b[49m\u001b[43m \u001b[49m\u001b[43mtext\u001b[49m\u001b[43m)\u001b[49m\n\u001b[1;32m     14\u001b[0m \u001b[38;5;66;03m# Normalize Unicode composition\u001b[39;00m\n\u001b[1;32m     15\u001b[0m \u001b[38;5;28;01mimport\u001b[39;00m\u001b[38;5;250m \u001b[39m\u001b[38;5;21;01municodedata\u001b[39;00m\n",
      "File \u001b[0;32m/usr/lib/python3.10/re.py:209\u001b[0m, in \u001b[0;36msub\u001b[0;34m(pattern, repl, string, count, flags)\u001b[0m\n\u001b[1;32m    202\u001b[0m \u001b[38;5;28;01mdef\u001b[39;00m\u001b[38;5;250m \u001b[39m\u001b[38;5;21msub\u001b[39m(pattern, repl, string, count\u001b[38;5;241m=\u001b[39m\u001b[38;5;241m0\u001b[39m, flags\u001b[38;5;241m=\u001b[39m\u001b[38;5;241m0\u001b[39m):\n\u001b[1;32m    203\u001b[0m \u001b[38;5;250m    \u001b[39m\u001b[38;5;124;03m\"\"\"Return the string obtained by replacing the leftmost\u001b[39;00m\n\u001b[1;32m    204\u001b[0m \u001b[38;5;124;03m    non-overlapping occurrences of the pattern in string by the\u001b[39;00m\n\u001b[1;32m    205\u001b[0m \u001b[38;5;124;03m    replacement repl.  repl can be either a string or a callable;\u001b[39;00m\n\u001b[1;32m    206\u001b[0m \u001b[38;5;124;03m    if a string, backslash escapes in it are processed.  If it is\u001b[39;00m\n\u001b[1;32m    207\u001b[0m \u001b[38;5;124;03m    a callable, it's passed the Match object and must return\u001b[39;00m\n\u001b[1;32m    208\u001b[0m \u001b[38;5;124;03m    a replacement string to be used.\"\"\"\u001b[39;00m\n\u001b[0;32m--> 209\u001b[0m     \u001b[38;5;28;01mreturn\u001b[39;00m \u001b[43m_compile\u001b[49m\u001b[43m(\u001b[49m\u001b[43mpattern\u001b[49m\u001b[43m,\u001b[49m\u001b[43m \u001b[49m\u001b[43mflags\u001b[49m\u001b[43m)\u001b[49m\u001b[38;5;241m.\u001b[39msub(repl, string, count)\n",
      "File \u001b[0;32m/usr/lib/python3.10/re.py:303\u001b[0m, in \u001b[0;36m_compile\u001b[0;34m(pattern, flags)\u001b[0m\n\u001b[1;32m    301\u001b[0m \u001b[38;5;28;01mif\u001b[39;00m \u001b[38;5;129;01mnot\u001b[39;00m sre_compile\u001b[38;5;241m.\u001b[39misstring(pattern):\n\u001b[1;32m    302\u001b[0m     \u001b[38;5;28;01mraise\u001b[39;00m \u001b[38;5;167;01mTypeError\u001b[39;00m(\u001b[38;5;124m\"\u001b[39m\u001b[38;5;124mfirst argument must be string or compiled pattern\u001b[39m\u001b[38;5;124m\"\u001b[39m)\n\u001b[0;32m--> 303\u001b[0m p \u001b[38;5;241m=\u001b[39m \u001b[43msre_compile\u001b[49m\u001b[38;5;241;43m.\u001b[39;49m\u001b[43mcompile\u001b[49m\u001b[43m(\u001b[49m\u001b[43mpattern\u001b[49m\u001b[43m,\u001b[49m\u001b[43m \u001b[49m\u001b[43mflags\u001b[49m\u001b[43m)\u001b[49m\n\u001b[1;32m    304\u001b[0m \u001b[38;5;28;01mif\u001b[39;00m \u001b[38;5;129;01mnot\u001b[39;00m (flags \u001b[38;5;241m&\u001b[39m DEBUG):\n\u001b[1;32m    305\u001b[0m     \u001b[38;5;28;01mif\u001b[39;00m \u001b[38;5;28mlen\u001b[39m(_cache) \u001b[38;5;241m>\u001b[39m\u001b[38;5;241m=\u001b[39m _MAXCACHE:\n\u001b[1;32m    306\u001b[0m         \u001b[38;5;66;03m# Drop the oldest item\u001b[39;00m\n",
      "File \u001b[0;32m/usr/lib/python3.10/sre_compile.py:788\u001b[0m, in \u001b[0;36mcompile\u001b[0;34m(p, flags)\u001b[0m\n\u001b[1;32m    786\u001b[0m \u001b[38;5;28;01mif\u001b[39;00m isstring(p):\n\u001b[1;32m    787\u001b[0m     pattern \u001b[38;5;241m=\u001b[39m p\n\u001b[0;32m--> 788\u001b[0m     p \u001b[38;5;241m=\u001b[39m \u001b[43msre_parse\u001b[49m\u001b[38;5;241;43m.\u001b[39;49m\u001b[43mparse\u001b[49m\u001b[43m(\u001b[49m\u001b[43mp\u001b[49m\u001b[43m,\u001b[49m\u001b[43m \u001b[49m\u001b[43mflags\u001b[49m\u001b[43m)\u001b[49m\n\u001b[1;32m    789\u001b[0m \u001b[38;5;28;01melse\u001b[39;00m:\n\u001b[1;32m    790\u001b[0m     pattern \u001b[38;5;241m=\u001b[39m \u001b[38;5;28;01mNone\u001b[39;00m\n",
      "File \u001b[0;32m/usr/lib/python3.10/sre_parse.py:955\u001b[0m, in \u001b[0;36mparse\u001b[0;34m(str, flags, state)\u001b[0m\n\u001b[1;32m    952\u001b[0m state\u001b[38;5;241m.\u001b[39mstr \u001b[38;5;241m=\u001b[39m \u001b[38;5;28mstr\u001b[39m\n\u001b[1;32m    954\u001b[0m \u001b[38;5;28;01mtry\u001b[39;00m:\n\u001b[0;32m--> 955\u001b[0m     p \u001b[38;5;241m=\u001b[39m \u001b[43m_parse_sub\u001b[49m\u001b[43m(\u001b[49m\u001b[43msource\u001b[49m\u001b[43m,\u001b[49m\u001b[43m \u001b[49m\u001b[43mstate\u001b[49m\u001b[43m,\u001b[49m\u001b[43m \u001b[49m\u001b[43mflags\u001b[49m\u001b[43m \u001b[49m\u001b[38;5;241;43m&\u001b[39;49m\u001b[43m \u001b[49m\u001b[43mSRE_FLAG_VERBOSE\u001b[49m\u001b[43m,\u001b[49m\u001b[43m \u001b[49m\u001b[38;5;241;43m0\u001b[39;49m\u001b[43m)\u001b[49m\n\u001b[1;32m    956\u001b[0m \u001b[38;5;28;01mexcept\u001b[39;00m Verbose:\n\u001b[1;32m    957\u001b[0m     \u001b[38;5;66;03m# the VERBOSE flag was switched on inside the pattern.  to be\u001b[39;00m\n\u001b[1;32m    958\u001b[0m     \u001b[38;5;66;03m# on the safe side, we'll parse the whole thing again...\u001b[39;00m\n\u001b[1;32m    959\u001b[0m     state \u001b[38;5;241m=\u001b[39m State()\n",
      "File \u001b[0;32m/usr/lib/python3.10/sre_parse.py:444\u001b[0m, in \u001b[0;36m_parse_sub\u001b[0;34m(source, state, verbose, nested)\u001b[0m\n\u001b[1;32m    442\u001b[0m start \u001b[38;5;241m=\u001b[39m source\u001b[38;5;241m.\u001b[39mtell()\n\u001b[1;32m    443\u001b[0m \u001b[38;5;28;01mwhile\u001b[39;00m \u001b[38;5;28;01mTrue\u001b[39;00m:\n\u001b[0;32m--> 444\u001b[0m     itemsappend(\u001b[43m_parse\u001b[49m\u001b[43m(\u001b[49m\u001b[43msource\u001b[49m\u001b[43m,\u001b[49m\u001b[43m \u001b[49m\u001b[43mstate\u001b[49m\u001b[43m,\u001b[49m\u001b[43m \u001b[49m\u001b[43mverbose\u001b[49m\u001b[43m,\u001b[49m\u001b[43m \u001b[49m\u001b[43mnested\u001b[49m\u001b[43m \u001b[49m\u001b[38;5;241;43m+\u001b[39;49m\u001b[43m \u001b[49m\u001b[38;5;241;43m1\u001b[39;49m\u001b[43m,\u001b[49m\n\u001b[1;32m    445\u001b[0m \u001b[43m                       \u001b[49m\u001b[38;5;129;43;01mnot\u001b[39;49;00m\u001b[43m \u001b[49m\u001b[43mnested\u001b[49m\u001b[43m \u001b[49m\u001b[38;5;129;43;01mand\u001b[39;49;00m\u001b[43m \u001b[49m\u001b[38;5;129;43;01mnot\u001b[39;49;00m\u001b[43m \u001b[49m\u001b[43mitems\u001b[49m\u001b[43m)\u001b[49m)\n\u001b[1;32m    446\u001b[0m     \u001b[38;5;28;01mif\u001b[39;00m \u001b[38;5;129;01mnot\u001b[39;00m sourcematch(\u001b[38;5;124m\"\u001b[39m\u001b[38;5;124m|\u001b[39m\u001b[38;5;124m\"\u001b[39m):\n\u001b[1;32m    447\u001b[0m         \u001b[38;5;28;01mbreak\u001b[39;00m\n",
      "File \u001b[0;32m/usr/lib/python3.10/sre_parse.py:841\u001b[0m, in \u001b[0;36m_parse\u001b[0;34m(source, state, verbose, nested, first)\u001b[0m\n\u001b[1;32m    838\u001b[0m         \u001b[38;5;28;01mraise\u001b[39;00m source\u001b[38;5;241m.\u001b[39merror(err\u001b[38;5;241m.\u001b[39mmsg, \u001b[38;5;28mlen\u001b[39m(name) \u001b[38;5;241m+\u001b[39m \u001b[38;5;241m1\u001b[39m) \u001b[38;5;28;01mfrom\u001b[39;00m\u001b[38;5;250m \u001b[39m\u001b[38;5;28;01mNone\u001b[39;00m\n\u001b[1;32m    839\u001b[0m sub_verbose \u001b[38;5;241m=\u001b[39m ((verbose \u001b[38;5;129;01mor\u001b[39;00m (add_flags \u001b[38;5;241m&\u001b[39m SRE_FLAG_VERBOSE)) \u001b[38;5;129;01mand\u001b[39;00m\n\u001b[1;32m    840\u001b[0m                \u001b[38;5;129;01mnot\u001b[39;00m (del_flags \u001b[38;5;241m&\u001b[39m SRE_FLAG_VERBOSE))\n\u001b[0;32m--> 841\u001b[0m p \u001b[38;5;241m=\u001b[39m \u001b[43m_parse_sub\u001b[49m\u001b[43m(\u001b[49m\u001b[43msource\u001b[49m\u001b[43m,\u001b[49m\u001b[43m \u001b[49m\u001b[43mstate\u001b[49m\u001b[43m,\u001b[49m\u001b[43m \u001b[49m\u001b[43msub_verbose\u001b[49m\u001b[43m,\u001b[49m\u001b[43m \u001b[49m\u001b[43mnested\u001b[49m\u001b[43m \u001b[49m\u001b[38;5;241;43m+\u001b[39;49m\u001b[43m \u001b[49m\u001b[38;5;241;43m1\u001b[39;49m\u001b[43m)\u001b[49m\n\u001b[1;32m    842\u001b[0m \u001b[38;5;28;01mif\u001b[39;00m \u001b[38;5;129;01mnot\u001b[39;00m source\u001b[38;5;241m.\u001b[39mmatch(\u001b[38;5;124m\"\u001b[39m\u001b[38;5;124m)\u001b[39m\u001b[38;5;124m\"\u001b[39m):\n\u001b[1;32m    843\u001b[0m     \u001b[38;5;28;01mraise\u001b[39;00m source\u001b[38;5;241m.\u001b[39merror(\u001b[38;5;124m\"\u001b[39m\u001b[38;5;124mmissing ), unterminated subpattern\u001b[39m\u001b[38;5;124m\"\u001b[39m,\n\u001b[1;32m    844\u001b[0m                        source\u001b[38;5;241m.\u001b[39mtell() \u001b[38;5;241m-\u001b[39m start)\n",
      "File \u001b[0;32m/usr/lib/python3.10/sre_parse.py:444\u001b[0m, in \u001b[0;36m_parse_sub\u001b[0;34m(source, state, verbose, nested)\u001b[0m\n\u001b[1;32m    442\u001b[0m start \u001b[38;5;241m=\u001b[39m source\u001b[38;5;241m.\u001b[39mtell()\n\u001b[1;32m    443\u001b[0m \u001b[38;5;28;01mwhile\u001b[39;00m \u001b[38;5;28;01mTrue\u001b[39;00m:\n\u001b[0;32m--> 444\u001b[0m     itemsappend(\u001b[43m_parse\u001b[49m\u001b[43m(\u001b[49m\u001b[43msource\u001b[49m\u001b[43m,\u001b[49m\u001b[43m \u001b[49m\u001b[43mstate\u001b[49m\u001b[43m,\u001b[49m\u001b[43m \u001b[49m\u001b[43mverbose\u001b[49m\u001b[43m,\u001b[49m\u001b[43m \u001b[49m\u001b[43mnested\u001b[49m\u001b[43m \u001b[49m\u001b[38;5;241;43m+\u001b[39;49m\u001b[43m \u001b[49m\u001b[38;5;241;43m1\u001b[39;49m\u001b[43m,\u001b[49m\n\u001b[1;32m    445\u001b[0m \u001b[43m                       \u001b[49m\u001b[38;5;129;43;01mnot\u001b[39;49;00m\u001b[43m \u001b[49m\u001b[43mnested\u001b[49m\u001b[43m \u001b[49m\u001b[38;5;129;43;01mand\u001b[39;49;00m\u001b[43m \u001b[49m\u001b[38;5;129;43;01mnot\u001b[39;49;00m\u001b[43m \u001b[49m\u001b[43mitems\u001b[49m\u001b[43m)\u001b[49m)\n\u001b[1;32m    446\u001b[0m     \u001b[38;5;28;01mif\u001b[39;00m \u001b[38;5;129;01mnot\u001b[39;00m sourcematch(\u001b[38;5;124m\"\u001b[39m\u001b[38;5;124m|\u001b[39m\u001b[38;5;124m\"\u001b[39m):\n\u001b[1;32m    447\u001b[0m         \u001b[38;5;28;01mbreak\u001b[39;00m\n",
      "File \u001b[0;32m/usr/lib/python3.10/sre_parse.py:526\u001b[0m, in \u001b[0;36m_parse\u001b[0;34m(source, state, verbose, nested, first)\u001b[0m\n\u001b[1;32m    523\u001b[0m         \u001b[38;5;28;01mcontinue\u001b[39;00m\n\u001b[1;32m    525\u001b[0m \u001b[38;5;28;01mif\u001b[39;00m this[\u001b[38;5;241m0\u001b[39m] \u001b[38;5;241m==\u001b[39m \u001b[38;5;124m\"\u001b[39m\u001b[38;5;130;01m\\\\\u001b[39;00m\u001b[38;5;124m\"\u001b[39m:\n\u001b[0;32m--> 526\u001b[0m     code \u001b[38;5;241m=\u001b[39m \u001b[43m_escape\u001b[49m\u001b[43m(\u001b[49m\u001b[43msource\u001b[49m\u001b[43m,\u001b[49m\u001b[43m \u001b[49m\u001b[43mthis\u001b[49m\u001b[43m,\u001b[49m\u001b[43m \u001b[49m\u001b[43mstate\u001b[49m\u001b[43m)\u001b[49m\n\u001b[1;32m    527\u001b[0m     subpatternappend(code)\n\u001b[1;32m    529\u001b[0m \u001b[38;5;28;01melif\u001b[39;00m this \u001b[38;5;129;01mnot\u001b[39;00m \u001b[38;5;129;01min\u001b[39;00m SPECIAL_CHARS:\n",
      "File \u001b[0;32m/usr/lib/python3.10/sre_parse.py:427\u001b[0m, in \u001b[0;36m_escape\u001b[0;34m(source, escape, state)\u001b[0m\n\u001b[1;32m    425\u001b[0m     \u001b[38;5;28;01mif\u001b[39;00m \u001b[38;5;28mlen\u001b[39m(escape) \u001b[38;5;241m==\u001b[39m \u001b[38;5;241m2\u001b[39m:\n\u001b[1;32m    426\u001b[0m         \u001b[38;5;28;01mif\u001b[39;00m c \u001b[38;5;129;01min\u001b[39;00m ASCIILETTERS:\n\u001b[0;32m--> 427\u001b[0m             \u001b[38;5;28;01mraise\u001b[39;00m source\u001b[38;5;241m.\u001b[39merror(\u001b[38;5;124m\"\u001b[39m\u001b[38;5;124mbad escape \u001b[39m\u001b[38;5;132;01m%s\u001b[39;00m\u001b[38;5;124m\"\u001b[39m \u001b[38;5;241m%\u001b[39m escape, \u001b[38;5;28mlen\u001b[39m(escape))\n\u001b[1;32m    428\u001b[0m         \u001b[38;5;28;01mreturn\u001b[39;00m LITERAL, \u001b[38;5;28mord\u001b[39m(escape[\u001b[38;5;241m1\u001b[39m])\n\u001b[1;32m    429\u001b[0m \u001b[38;5;28;01mexcept\u001b[39;00m \u001b[38;5;167;01mValueError\u001b[39;00m:\n",
      "\u001b[0;31merror\u001b[0m: bad escape \\p at position 1"
     ]
    }
   ],
   "source": [
    "texts = clean_bengali_text(texts)\n",
    "print(texts[0:100])"
   ]
  },
  {
   "cell_type": "code",
   "execution_count": 36,
   "id": "dfa8c636-9f5c-4ce9-bb36-7e9b5728f8ab",
   "metadata": {},
   "outputs": [
    {
     "ename": "ValueError",
     "evalue": "No models are available for the language 'bn' and OCR version None.",
     "output_type": "error",
     "traceback": [
      "\u001b[0;31m---------------------------------------------------------------------------\u001b[0m",
      "\u001b[0;31mValueError\u001b[0m                                Traceback (most recent call last)",
      "Cell \u001b[0;32mIn[36], line 8\u001b[0m\n\u001b[1;32m      5\u001b[0m \u001b[38;5;28;01mimport\u001b[39;00m\u001b[38;5;250m \u001b[39m\u001b[38;5;21;01mre\u001b[39;00m\n\u001b[1;32m      7\u001b[0m \u001b[38;5;66;03m# Initialize PaddleOCR for Bengali\u001b[39;00m\n\u001b[0;32m----> 8\u001b[0m ocr_engine \u001b[38;5;241m=\u001b[39m \u001b[43mPaddleOCR\u001b[49m\u001b[43m(\u001b[49m\u001b[43muse_angle_cls\u001b[49m\u001b[38;5;241;43m=\u001b[39;49m\u001b[38;5;28;43;01mTrue\u001b[39;49;00m\u001b[43m,\u001b[49m\u001b[43m \u001b[49m\u001b[43mlang\u001b[49m\u001b[38;5;241;43m=\u001b[39;49m\u001b[38;5;124;43m'\u001b[39;49m\u001b[38;5;124;43mbn\u001b[39;49m\u001b[38;5;124;43m'\u001b[39;49m\u001b[43m,\u001b[49m\u001b[43m \u001b[49m\u001b[43mshow_log\u001b[49m\u001b[38;5;241;43m=\u001b[39;49m\u001b[38;5;28;43;01mFalse\u001b[39;49;00m\u001b[43m)\u001b[49m\n\u001b[1;32m     10\u001b[0m \u001b[38;5;28;01mdef\u001b[39;00m\u001b[38;5;250m \u001b[39m\u001b[38;5;21mis_bengali_text_valid\u001b[39m(text: \u001b[38;5;28mstr\u001b[39m) \u001b[38;5;241m-\u001b[39m\u001b[38;5;241m>\u001b[39m \u001b[38;5;28mbool\u001b[39m:\n\u001b[1;32m     11\u001b[0m \u001b[38;5;250m    \u001b[39m\u001b[38;5;124;03m\"\"\"Check if extracted text contains valid Bengali\"\"\"\u001b[39;00m\n",
      "File \u001b[0;32m~/.local/lib/python3.10/site-packages/paddleocr/_pipelines/ocr.py:106\u001b[0m, in \u001b[0;36mPaddleOCR.__init__\u001b[0;34m(self, doc_orientation_classify_model_name, doc_orientation_classify_model_dir, doc_unwarping_model_name, doc_unwarping_model_dir, text_detection_model_name, text_detection_model_dir, textline_orientation_model_name, textline_orientation_model_dir, textline_orientation_batch_size, text_recognition_model_name, text_recognition_model_dir, text_recognition_batch_size, use_doc_orientation_classify, use_doc_unwarping, use_textline_orientation, text_det_limit_side_len, text_det_limit_type, text_det_thresh, text_det_box_thresh, text_det_unclip_ratio, text_det_input_shape, text_rec_score_thresh, text_rec_input_shape, lang, ocr_version, **kwargs)\u001b[0m\n\u001b[1;32m    102\u001b[0m det_model_name, rec_model_name \u001b[38;5;241m=\u001b[39m \u001b[38;5;28mself\u001b[39m\u001b[38;5;241m.\u001b[39m_get_ocr_model_names(\n\u001b[1;32m    103\u001b[0m     lang, ocr_version\n\u001b[1;32m    104\u001b[0m )\n\u001b[1;32m    105\u001b[0m \u001b[38;5;28;01mif\u001b[39;00m det_model_name \u001b[38;5;129;01mis\u001b[39;00m \u001b[38;5;28;01mNone\u001b[39;00m \u001b[38;5;129;01mor\u001b[39;00m rec_model_name \u001b[38;5;129;01mis\u001b[39;00m \u001b[38;5;28;01mNone\u001b[39;00m:\n\u001b[0;32m--> 106\u001b[0m     \u001b[38;5;28;01mraise\u001b[39;00m \u001b[38;5;167;01mValueError\u001b[39;00m(\n\u001b[1;32m    107\u001b[0m         \u001b[38;5;124mf\u001b[39m\u001b[38;5;124m\"\u001b[39m\u001b[38;5;124mNo models are available for the language \u001b[39m\u001b[38;5;132;01m{\u001b[39;00m\u001b[38;5;28mrepr\u001b[39m(lang)\u001b[38;5;132;01m}\u001b[39;00m\u001b[38;5;124m and OCR version \u001b[39m\u001b[38;5;132;01m{\u001b[39;00m\u001b[38;5;28mrepr\u001b[39m(ocr_version)\u001b[38;5;132;01m}\u001b[39;00m\u001b[38;5;124m.\u001b[39m\u001b[38;5;124m\"\u001b[39m\n\u001b[1;32m    108\u001b[0m     )\n\u001b[1;32m    109\u001b[0m text_detection_model_name \u001b[38;5;241m=\u001b[39m det_model_name\n\u001b[1;32m    110\u001b[0m text_recognition_model_name \u001b[38;5;241m=\u001b[39m rec_model_name\n",
      "\u001b[0;31mValueError\u001b[0m: No models are available for the language 'bn' and OCR version None."
     ]
    }
   ],
   "source": [
    "import fitz  # PyMuPDF\n",
    "from pdf2image import convert_from_path\n",
    "from paddleocr import PaddleOCR\n",
    "import numpy as np\n",
    "import re\n",
    "\n",
    "# Initialize PaddleOCR for Bengali\n",
    "ocr_engine = PaddleOCR(use_angle_cls=True, lang='bn', show_log=False)\n",
    "\n",
    "def is_bengali_text_valid(text: str) -> bool:\n",
    "    \"\"\"Check if extracted text contains valid Bengali\"\"\"\n",
    "    bengali_chars = re.compile(r'[\\u0980-\\u09FF]')\n",
    "    return len(bengali_chars.findall(text)) / max(1, len(text)) > 0.5  # >50% Bengali chars\n",
    "\n",
    "def extract_with_ocr(page_image):\n",
    "    \"\"\"Process one page image with OCR\"\"\"\n",
    "    result = ocr_engine.ocr(np.array(page_image))\n",
    "    return \" \".join([line[1][0] for line in result[0]])\n",
    "\n",
    "def load_pdf_with_fallback(pdf_path: str) -> str:\n",
    "    doc = fitz.open(pdf_path)\n",
    "    full_text = \"\"\n",
    "    \n",
    "    for page_num, page in enumerate(doc):\n",
    "        # First try PyMuPDF extraction\n",
    "        text = page.get_text(\"text\", sort=True, flags=fitz.TEXT_PRESERVE_LIGATURES)\n",
    "        \n",
    "        # Validate Bengali text quality\n",
    "        if not text or not is_bengali_text_valid(text):\n",
    "            print(f\"Falling back to OCR for page {page_num+1}\")\n",
    "            img = convert_from_path(pdf_path, first_page=page_num+1, last_page=page_num+1)[0]\n",
    "            text = extract_with_ocr(img)\n",
    "        \n",
    "        full_text += text + \"\\n\"\n",
    "    \n",
    "    return full_text\n",
    "\n",
    "# Usage:\n",
    "clean_text = load_pdf_with_fallback(path_to_book)"
   ]
  },
  {
   "cell_type": "code",
   "execution_count": 37,
   "id": "acb2d31d-d744-42a7-97ea-1babd04a77b0",
   "metadata": {},
   "outputs": [],
   "source": [
    "import pytesseract\n",
    "from pdf2image import convert_from_path\n",
    "\n",
    "def ocr_with_tesseract(pdf_path):\n",
    "    images = convert_from_path(pdf_path, dpi=300)\n",
    "    text = \"\"\n",
    "    for img in images:\n",
    "        text += pytesseract.image_to_string(img, lang='ben') + \"\\n\"\n",
    "    return text\n",
    "\n"
   ]
  },
  {
   "cell_type": "code",
   "execution_count": 38,
   "id": "2656596a-e9cd-46cf-ac74-eef4333b601c",
   "metadata": {},
   "outputs": [
    {
     "data": {
      "text/plain": [
       "'10940759\\n\\nঅনলাইন ব্যাট”\\n\\nহি\\nবাংলা * ইংরেজি * আইসিটি\\n\\n \\n\\n  \\n\\nঅনলাইন ব্যাচ সম্পর্কিত যেকোনো জিজ্ঞাসায়'"
      ]
     },
     "execution_count": 38,
     "metadata": {},
     "output_type": "execute_result"
    }
   ],
   "source": [
    "text = ocr_with_tesseract(path_to_book)\n"
   ]
  },
  {
   "cell_type": "code",
   "execution_count": 39,
   "id": "93ae9d97-eaf7-43e7-9bfa-77dafc32a0df",
   "metadata": {},
   "outputs": [
    {
     "data": {
      "text/plain": [
       "',\\n\\n01550188810,\\n\\x0c\\n[লুল\\nজআললাইন ব্যাচ” 11072\\n1 ১4159?\\n\\n/ নিম্নবিত্ত ব্যক্তির হঠাৎ বিত্তশালী হয়ে ওঠার'"
      ]
     },
     "execution_count": 39,
     "metadata": {},
     "output_type": "execute_result"
    }
   ],
   "source": [
    "text[100:200]"
   ]
  },
  {
   "cell_type": "code",
   "execution_count": 40,
   "id": "5e6240fc-60c1-4ac5-a744-fbd9e15e50ef",
   "metadata": {},
   "outputs": [],
   "source": [
    "def save_text_to_file(text: str, file_path: str) -> None:\n",
    "    with open(file_path, 'w', encoding='utf-8') as f:\n",
    "        f.write(text)"
   ]
  },
  {
   "cell_type": "code",
   "execution_count": 42,
   "id": "8d026e45-9590-4cfe-8eef-5a26a6c3f2b9",
   "metadata": {},
   "outputs": [],
   "source": [
    "save_text_to_file(text, \"data/unclean_text.txt\")"
   ]
  },
  {
   "cell_type": "code",
   "execution_count": 60,
   "id": "36094e73-94e9-4d08-b1f9-63d58a3e40ce",
   "metadata": {},
   "outputs": [],
   "source": [
    "import re\n",
    "\n",
    "## this is good and much much less aggressive compared to prev ones\n",
    "def precise_bengali_cleaner(text: str) -> str:\n",
    "    \"\"\"\n",
    "    Targeted cleaning for Bengali OCR text:\n",
    "    - Removes exactly the garbage patterns shown in your examples\n",
    "    - Preserves all other Bengali text and numbers\n",
    "    \"\"\"\n",
    "    # Pattern 1: Form feed followed by bracket garbage (e.g., '\f",
    "[লুল')\n",
    "    text = re.sub(r'\\x0c\\[[^\\]]+\\]', '', text)\n",
    "    \n",
    "    # Pattern 2: Isolated number sequences (e.g., '11072', '1 ১4159?')\n",
    "    text = re.sub(r'(?<!\\S)\\d[\\d ১২৩৪৫৬৭৮৯০?]+\\b', '', text)\n",
    "    \n",
    "    # Pattern 3: European symbols with numbers (e.g., '€91717110')\n",
    "    text = re.sub(r'[€£][\\d]+', '', text)\n",
    "    \n",
    "    # Remove remaining form feeds and trailing whitespace\n",
    "    text = text.replace('\\x0c', '').strip()\n",
    "    \n",
    "    # Preserve all Bengali characters, punctuation and meaningful numbers\n",
    "    return text\n",
    "\n",
    "def ultra_precise_cleaner(text: str) -> str:\n",
    "    \"\"\"\n",
    "    Removes ONLY these exact sequences:\n",
    "    1. '[লুল' at line start\n",
    "    2. 'জআললাইন ব্যাচ”' \n",
    "    3. Isolated '?' on its own line\n",
    "    Preserves all other content including newlines\n",
    "    \"\"\"\n",
    "    # Pattern 1: '[লুল' at line start (keeps following newline)\n",
    "    text = re.sub(r'^\\[লুল\\n', '', text, flags=re.MULTILINE)\n",
    "    \n",
    "    # Pattern 2: 'জআললাইন ব্যাচ”' (standalone)\n",
    "    text = re.sub(r'জআললাইন ব্যাচ”\\n?', '', text)\n",
    "    \n",
    "    # Pattern 3: Isolated '?' on its own line\n",
    "    text = re.sub(r'^\\?$\\n', '', text, flags=re.MULTILINE)\n",
    "    \n",
    "    return text"
   ]
  },
  {
   "cell_type": "code",
   "execution_count": 65,
   "id": "1e32d349-2690-4d3c-a2bf-ffdcce5bfefb",
   "metadata": {},
   "outputs": [],
   "source": [
    "clean_text = precise_bengali_cleaner(text)\n",
    "clean_text = ultra_precise_cleaner(clean_text)\n",
    "save_text_to_file(clean_text, \"data/clean_text.txt\")"
   ]
  },
  {
   "cell_type": "code",
   "execution_count": 66,
   "id": "5a688b31-6552-4d72-8161-7221c6f331b0",
   "metadata": {},
   "outputs": [
    {
     "name": "stdout",
     "output_type": "stream",
     "text": [
      "Chunk 1:\n",
      "অনলাইন ব্যাট”\n",
      "\n",
      "হি\n",
      "বাংলা * ইংরেজি * আইসিটি\n",
      "\n",
      " \n",
      "\n",
      "  \n",
      "\n",
      "অনলাইন ব্যাচ সম্পর্কিত যেকোনো জিজ্ঞাসায়,\n",
      "\n",
      ",\n",
      "\n",
      " \n",
      "\n",
      "/ নিম্নবিত্ত ব্যক্তির হঠাৎ বিত্তশালী হয়ে ওঠার ফলে সমাজে পরিচয় সংকট সম্পর্কে ধারণা লাভ করবে।\n",
      "তৎকালীন সমাজ-সভ্যতা ও মানবতার অবমাননা সম্পর্কে জানতে পারবে।\n",
      "তৎকালীন সমাজের পণপ্রথার কুপ্রভাব সম্পর্কে জানতে পারবে।\n",
      "\n",
      " \n",
      "\n",
      "তৎকালে সমাজে ভদ্রলোকের স্বভাববৈশিষ্ট্য সম্পর্কে জ্ঞানলাভ করবে৷\n",
      "নারী কোমল ঠিক, কিন্তু দুর্বল নয়- কল্যাণীর জীবনচরিত দ্বারা প্রতিষ্ঠিত এই সত্য অনুধাবন করতে\n",
      "পারবে।\n",
      "মানুষ আশা নিয়ে বেঁচে থাকে- অনুপমের দৃষ্টান্তে মানবজীবনের এই চিরন্তন সত্যদর্শন সম্পর্কে\n",
      "জ্ঞানলাভ করবে।\n",
      "ছ প্রাক-মূল্যায়ন\n",
      "১। অনুপমের বাবা কী করে জীবিকা নির্বাহ করতেন?\n",
      "ক) ডাক্তারি খ) ওকালতি গ) মাস্টারি ঘ) ব্যবসা\n",
      "২। মামাকে ভাগ্য দেবতার প্রধান এজেন্ট বলার কারণ, তার-\n",
      "ক) প্রতিপত্তি খ) প্রভাব গ) বিচক্ষণতা ঘ) কুট বুদ্ধি\n",
      "\n",
      "নিচের অনুচ্ছেদটি পড়ে ও সংখ্যক প্রশ্নের উত্তর দাও।\n",
      "\n",
      "==================================================\n",
      "\n",
      "Chunk 2:\n",
      "নিচের অনুচ্ছেদটি পড়ে ও সংখ্যক প্রশ্নের উত্তর দাও।\n",
      "\n",
      "পিতৃহীন দীপুর চাচাই ছিলেন পরিবারের কর্তা। দীপু শিক্ষিত হলেও তার সিদ্ধান্ত নেওয়ার ক্ষমতা ছিল না। চাচা\n",
      "তার বিয়ের উদ্যোগ নিলেও যৌতুক নিয়ে বাড়াবাড়ি করার কারণে কন্যার পিতা অপমানিত বোধ করে বিয়ের\n",
      "আলোচনা ভেঙে দেন। দীপু মেয়েটির ছবি দেখে মুগ্ধ হলেও তার চাচাকে কিছুই বলতে পারেননি।\n",
      "\n",
      "৩। দীপুর চাচার সঙ্গে “অপরিচিতা' গন্সের কোন চরিত্রের মিল আছে?\n",
      "\n",
      "ক) হরিশের খ) মামার গ) শিক্ষকের ঘ) বিনুর\n",
      "উক্ত চরিত্রে প্রাধান্য পেয়েছে -\n",
      "\n",
      "1) দৌরাত্ম 1) হীনম্মন্যতা ) লোভ\n",
      "\n",
      "নিচের কোনটি ঠিক?\n",
      "\n",
      "ক।। ও ॥ খ। ও | গ।1ও | ঘ।1,1 ও ||\n",
      "\n",
      "৫. অনুপমের বয়স কত বছর?\n",
      "ক) পঁচিশ খ) ছাবিবিশ গ) সাতাশ ঘ) আটাশ\n",
      "\n",
      "কতগুলো প্রশ্নের সঠিক উত্তর দিতে পারলে?\n",
      "\n",
      " \n",
      "\n",
      " \n",
      "\n",
      "গল্পের কথক চরিত্র অনুপমের আত্মসমালোচনা। পরিমাণ ও\n",
      "গুণ উভয় দিক দিয়েই যে তার জীবনটি নিতান্তই তুচ্ছ সে\n",
      "কথাই এখানে ব্যক্ত হয়েছে।\n",
      "\n",
      "গুটি এক সময় পূর্ণ ফলে পরিণত হয়। কিন্তু গুটিই যদি\n",
      "\n",
      "ফলের মতো হয় তাহলে তার অসম্পূর্ণ সারবস্তা প্রকট হয়ে\n",
      "\n",
      "ওঠে।নিজের নিম্ষল জীবনকে বোঝাতে অনুপমের ব্যবহৃত\n",
      "পমা।\n",
      "\n",
      "অন্ে পরিপূর্ণা। দেবী দুর্গা\n",
      "\n",
      "==================================================\n",
      "\n",
      "Chunk 3:\n",
      "গুটি এক সময় পূর্ণ ফলে পরিণত হয়। কিন্তু গুটিই যদি\n",
      "\n",
      "ফলের মতো হয় তাহলে তার অসম্পূর্ণ সারবস্তা প্রকট হয়ে\n",
      "\n",
      "ওঠে।নিজের নিম্ষল জীবনকে বোঝাতে অনুপমের ব্যবহৃত\n",
      "পমা।\n",
      "\n",
      "অন্ে পরিপূর্ণা। দেবী দুর্গা\n",
      "\n",
      "দেবী দুর্গার দুই পুত্র; অগ্রজ গণেশ ও অনুজ কার্তিকেয়।\n",
      "দুর্গার কোলে থাকা দেব-সেনাপতি কার্তিকেয়কে বোঝানো\n",
      "হয়েছে। ব্যঙ্গার্থে প্রয়োগ।\n",
      "\n",
      " \n",
      "\n",
      " \n",
      "\n",
      " \n",
      "\n",
      " \n",
      "\n",
      "ভূষণ, প্রসাধন, শোভা। ভাষার মাধুর্য ও উৎকর্ষ বৃদ্ধি করে এমন\n",
      "গুণ।\n",
      "\n",
      " \n",
      "\n",
      "ভারতের গয়া অঞ্চলের অন্তঃসলিলা নদী। নদীটির ওপরের\n",
      "অংশে বালির আস্তরণ কিন্তু ভিতরে জলম্বোত প্রবাহিত।\n",
      "\n",
      " \n",
      "\n",
      "অনুপম তার মামার চরিত্র-বৈশিষ্ট্য প্রসঙ্গে কথাটি বলেছে।\n",
      "সংসারের সমস্ত দায়-দায়িত্ব পালনে তার ভূমিকা এখানে\n",
      "উপমার মাধ্যমে ব্যক্ত করা হয়েছে\n",
      "\n",
      " \n",
      "\n",
      "একমুখ বা এককোষ জল\n",
      "অন্দরমহল । ভেতরবাড়ি\n",
      "\n",
      "যে মেয়ে নিজেই স্বামী নির্বাচন করে\n",
      "আলবোলা। ফরসি। দীর্ঘ নলযুক্ত হুকাবিশেষ\n",
      "\n",
      "সাধারণ মানুষের ব্যবহার্য নারকেল-খোলে তৈরি ধূমপানের\n",
      "যন্ত্রবিশেষ\n",
      "\n",
      " \n",
      "\n",
      " \n",
      "\n",
      " \n",
      "\n",
      " \n",
      "\n",
      " \n",
      "\n",
      "প্রার্থনা। চাকরির আশায় অন্যের কাছে ধরনা দেওয়া।\n",
      "\n",
      "==================================================\n",
      "\n"
     ]
    }
   ],
   "source": [
    "from langchain.text_splitter import RecursiveCharacterTextSplitter\n",
    "\n",
    "# Load your cleaned text\n",
    "with open(\"data/clean_text.txt\", \"r\", encoding=\"utf-8\") as f:\n",
    "    cleaned_text = f.read()\n",
    "\n",
    "# Configure the splitter for Bengali text\n",
    "bengali_splitter = RecursiveCharacterTextSplitter(\n",
    "    separators=[\"\\n\\n\", \"\\n\"],  # Bengali-relevant separators\n",
    "    chunk_size=1000,  # Adjust based on your needs\n",
    "    chunk_overlap=200,  # Preserves context across chunks\n",
    "    length_function=len,\n",
    "    is_separator_regex=False  # Important for non-ASCII separators\n",
    ")\n",
    "\n",
    "# Split the documents\n",
    "text_chunks = bengali_splitter.create_documents([cleaned_text])\n",
    "\n",
    "# Optional: Verify the chunks\n",
    "for i, chunk in enumerate(text_chunks[:3]):  # Print first 3 chunks\n",
    "    print(f\"Chunk {i+1}:\")\n",
    "    print(chunk.page_content)\n",
    "    print(\"\\n\" + \"=\"*50 + \"\\n\")\n"
   ]
  },
  {
   "cell_type": "code",
   "execution_count": 82,
   "id": "465eca20-3072-4a1d-b6dc-52ef57c6a7eb",
   "metadata": {},
   "outputs": [],
   "source": [
    "def text_splitter(txt_path : str):\n",
    "    with open(txt_path, \"r\", encoding=\"utf-8\") as f:\n",
    "        cleaned_text = f.read()\n",
    "    \n",
    "    # Configure the splitter for Bengali text\n",
    "    bengali_splitter = RecursiveCharacterTextSplitter(\n",
    "        # separators=[\"\\n\\n\", \"\\n\"],  # Bengali-relevant separators\n",
    "        chunk_size=1000,  # Adjust based on your needs\n",
    "        chunk_overlap=100,  # Preserves context across chunks\n",
    "        length_function=len,\n",
    "        is_separator_regex=False  # Important for non-ASCII separators\n",
    "    )\n",
    "    \n",
    "    # Split the documents\n",
    "    text_chunks = bengali_splitter.create_documents([cleaned_text])\n",
    "    return text_chunks"
   ]
  },
  {
   "cell_type": "code",
   "execution_count": 83,
   "id": "364b594e-4ad3-463a-8df7-6547ac622370",
   "metadata": {},
   "outputs": [],
   "source": [
    "chuckz = text_splitter(\"data/clean_text.txt\")"
   ]
  },
  {
   "cell_type": "code",
   "execution_count": 84,
   "id": "7e05fe8d-ca2a-4447-bc8f-5534cb4aae4b",
   "metadata": {},
   "outputs": [
    {
     "data": {
      "text/plain": [
       "Document(metadata={}, page_content='অনলাইন ব্যাট”\\n\\nহি\\nবাংলা * ইংরেজি * আইসিটি\\n\\n \\n\\n  \\n\\nঅনলাইন ব্যাচ সম্পর্কিত যেকোনো জিজ্ঞাসায়,\\n\\n,\\n\\n \\n\\n/ নিম্নবিত্ত ব্যক্তির হঠাৎ বিত্তশালী হয়ে ওঠার ফলে সমাজে পরিচয় সংকট সম্পর্কে ধারণা লাভ করবে।\\nতৎকালীন সমাজ-সভ্যতা ও মানবতার অবমাননা সম্পর্কে জানতে পারবে।\\nতৎকালীন সমাজের পণপ্রথার কুপ্রভাব সম্পর্কে জানতে পারবে।\\n\\n \\n\\nতৎকালে সমাজে ভদ্রলোকের স্বভাববৈশিষ্ট্য সম্পর্কে জ্ঞানলাভ করবে৷\\nনারী কোমল ঠিক, কিন্তু দুর্বল নয়- কল্যাণীর জীবনচরিত দ্বারা প্রতিষ্ঠিত এই সত্য অনুধাবন করতে\\nপারবে।\\nমানুষ আশা নিয়ে বেঁচে থাকে- অনুপমের দৃষ্টান্তে মানবজীবনের এই চিরন্তন সত্যদর্শন সম্পর্কে\\nজ্ঞানলাভ করবে।\\nছ প্রাক-মূল্যায়ন\\n১। অনুপমের বাবা কী করে জীবিকা নির্বাহ করতেন?\\nক) ডাক্তারি খ) ওকালতি গ) মাস্টারি ঘ) ব্যবসা\\n২। মামাকে ভাগ্য দেবতার প্রধান এজেন্ট বলার কারণ, তার-\\nক) প্রতিপত্তি খ) প্রভাব গ) বিচক্ষণতা ঘ) কুট বুদ্ধি\\n\\nনিচের অনুচ্ছেদটি পড়ে ও সংখ্যক প্রশ্নের উত্তর দাও।')"
      ]
     },
     "execution_count": 84,
     "metadata": {},
     "output_type": "execute_result"
    }
   ],
   "source": [
    "chuckz[0]"
   ]
  },
  {
   "cell_type": "code",
   "execution_count": 85,
   "id": "f542616e-c803-4856-9db9-d08048da4f07",
   "metadata": {},
   "outputs": [],
   "source": [
    "from langchain_chroma import Chroma\n",
    "from langchain_huggingface import HuggingFaceEmbeddings\n",
    "\n",
    "embeddings = HuggingFaceEmbeddings(\n",
    "    model_name=\"sentence-transformers/paraphrase-multilingual-MiniLM-L12-v2\",\n",
    "    model_kwargs={\"device\": \"cpu\"}  # or \"cuda\" for GPU\n",
    ")"
   ]
  },
  {
   "cell_type": "code",
   "execution_count": 86,
   "id": "8c1fa528-db26-4010-9dce-96d1e4d23c34",
   "metadata": {},
   "outputs": [],
   "source": [
    "vector_db = Chroma.from_documents(\n",
    "    documents=chuckz,\n",
    "    embedding=embeddings,\n",
    "    persist_directory=\"./bengali_chroma_db\"  # Local storage\n",
    ")"
   ]
  },
  {
   "cell_type": "code",
   "execution_count": 87,
   "id": "d25aae53-d473-4096-9205-1c70dd778ed1",
   "metadata": {},
   "outputs": [
    {
     "name": "stdout",
     "output_type": "stream",
     "text": [
      "Result 1:\n",
      "বলা বাহুল্য, আমিও খুব রাগিয়াছিলাম। কোনো গতিকে শস্তুনাথ বিষম জব্দ হইয়া আমাদের পায়ে ধরিয়া\n",
      "আসিয়া পড়েন, গোঁফের রেখায় তা দিতে দিতে এইটেই কেবল কামনা করিতে লাগিলাম।\n",
      "\n",
      "কিন্ত, এই আক্রোশের কালো রঙের শ্োতের পাশাপাশি আর-একটা শ্রোত বহিতেছিল যেটার রঙ একেবারেই\n",
      "কালো নয়। সমস্ত মন যে সেই অপরিচিতার পানে ছুটিয়া গিয়াছিল__এখনো যে তাহাকে কিছুতেই টানিয়া\n",
      "ফিরাইতে পারি না। দেয়ালটকুর আড়ালে রহিয়া গেল গো। কপালে তার চন্দন আঁকা, গায়ে তার লাল শাড়ি,\n",
      "মুখে তার লজ্জার রক্তিমা, হৃদয়ের ভিতরে কী যে তা কেমন করিয়া বলিব।\n",
      "\n",
      " \n",
      "\n",
      ",\n",
      "\n",
      "\n",
      "বাংলা - ইংরেজি *তআইসিটি\n",
      "\n",
      "নত হইয়া পড়িয়াছিল। হাওয়া আসে, গন্ধ পাই,\n",
      "পাতার শব্দ শুনি__ কেবল আর একটিমাত্র পা\n",
      "ফেলার অপেক্ষা-_-এমন সময়ে সেই এক\n",
      "পদক্ষেপের দুরত্বটুকু এক মুহর্তে অসীম হইয়া\n",
      "উঠিল!\n",
      "--------------------------------------------------\n",
      "Result 2:\n",
      "বলা বাহুল্য, আমিও খুব রাগিয়াছিলাম। কোনো গতিকে শস্তুনাথ বিষম জব্দ হইয়া আমাদের পায়ে ধরিয়া\n",
      "আসিয়া পড়েন, গোঁফের রেখায় তা দিতে দিতে এইটেই কেবল কামনা করিতে লাগিলাম।\n",
      "\n",
      "কিন্ত, এই আক্রোশের কালো রঙের শ্োতের পাশাপাশি আর-একটা শ্রোত বহিতেছিল যেটার রঙ একেবারেই\n",
      "কালো নয়। সমস্ত মন যে সেই অপরিচিতার পানে ছুটিয়া গিয়াছিল__এখনো যে তাহাকে কিছুতেই টানিয়া\n",
      "ফিরাইতে পারি না। দেয়ালটকুর আড়ালে রহিয়া গেল গো। কপালে তার চন্দন আঁকা, গায়ে তার লাল শাড়ি,\n",
      "মুখে তার লজ্জার রক্তিমা, হৃদয়ের ভিতরে কী যে তা কেমন করিয়া বলিব।\n",
      "\n",
      " \n",
      "\n",
      ",\n",
      "\n",
      "\n",
      "বাংলা - ইংরেজি *তআইসিটি\n",
      "\n",
      "নত হইয়া পড়িয়াছিল। হাওয়া আসে, গন্ধ পাই,\n",
      "পাতার শব্দ শুনি__ কেবল আর একটিমাত্র পা\n",
      "ফেলার অপেক্ষা-_-এমন সময়ে সেই এক\n",
      "পদক্ষেপের দুরত্বটুকু এক মুহর্তে অসীম হইয়া\n",
      "উঠিল!\n",
      "--------------------------------------------------\n",
      "Result 3:\n",
      "মঞ্জরী কিশলয়যুক্ত কচি ডাল। মুকুল\n",
      "\n",
      "একপত্তন একপ্রস্থ\n",
      "\n",
      "কানগর কল্যাণী যে দেশমাতৃকার সেবায় আত্মনিয়োগ করেছে,\n",
      "\n",
      "অনুপমের এই আত্মোপলন্ধি এখানে প্রকাশিত।\n",
      "\n",
      " \n",
      "\n",
      " \n",
      "\n",
      "মূল আলোচ্য বিষয়\n",
      "--------------------------------------------------\n"
     ]
    }
   ],
   "source": [
    "# Test with a Bengali query\n",
    "# query = \"অনুপমের ভাষায় সুপুরুষ কাকে বলা হয়েছে?\"\n",
    "# query = \"বাংলা সাহিত্যের জনক কে?\"\n",
    "# query = \"বাংলা সাহিত্যের জনক কে?\"\n",
    "query = \"কাকে অনুপমের ভাগ্য দেবতা বলে উল্লেখ করা হয়েছে?\"\n",
    "results = vector_db.similarity_search(query, k=3)\n",
    "\n",
    "for i, doc in enumerate(results):\n",
    "    print(f\"Result {i+1}:\\n{doc.page_content}\\n{'-'*50}\")"
   ]
  },
  {
   "cell_type": "code",
   "execution_count": 80,
   "id": "71c36542-5e1c-47c3-b9e9-7538520dee3e",
   "metadata": {},
   "outputs": [
    {
     "name": "stdout",
     "output_type": "stream",
     "text": [
      "107\n"
     ]
    }
   ],
   "source": [
    "print(len(set([doc.page_content for doc in chuckz])))"
   ]
  },
  {
   "cell_type": "code",
   "execution_count": 81,
   "id": "f3f84be8-3383-4c82-9660-cecc81146885",
   "metadata": {},
   "outputs": [
    {
     "data": {
      "text/plain": [
       "107"
      ]
     },
     "execution_count": 81,
     "metadata": {},
     "output_type": "execute_result"
    }
   ],
   "source": [
    "len(chuckz)"
   ]
  },
  {
   "cell_type": "code",
   "execution_count": null,
   "id": "9dbec1f7-8f87-4fc3-b629-8edee62f5366",
   "metadata": {},
   "outputs": [],
   "source": []
  }
 ],
 "metadata": {
  "kernelspec": {
   "display_name": "Python 3 (ipykernel)",
   "language": "python",
   "name": "python3"
  },
  "language_info": {
   "codemirror_mode": {
    "name": "ipython",
    "version": 3
   },
   "file_extension": ".py",
   "mimetype": "text/x-python",
   "name": "python",
   "nbconvert_exporter": "python",
   "pygments_lexer": "ipython3",
   "version": "3.10.12"
  }
 },
 "nbformat": 4,
 "nbformat_minor": 5
}
